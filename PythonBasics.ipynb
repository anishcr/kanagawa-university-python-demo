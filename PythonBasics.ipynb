{
 "cells": [
  {
   "cell_type": "markdown",
   "metadata": {},
   "source": [
    "## A Quick Overview of Python 3\n",
    "\n",
    "* Lines and Intendation\n",
    "* Comments\n",
    "* Dynamic Typing\n",
    "* Variable Names\n",
    "* Basic Data Types - Arrays/Lists, Dictionaries, Sets, Tupples, Strings\n",
    "* Control Structures\n",
    "* Mathematical Operators\n",
    "* List Comprehensions And Lamda Functions\n",
    "* Exceptions\n",
    "* Classes and Objects"
   ]
  },
  {
   "cell_type": "code",
   "execution_count": 98,
   "metadata": {},
   "outputs": [
    {
     "name": "stdout",
     "output_type": "stream",
     "text": [
      "Hello World!\n"
     ]
    }
   ],
   "source": [
    "# Customary Hello World\n",
    "\n",
    "print(\"Hello World!\")"
   ]
  },
  {
   "cell_type": "markdown",
   "metadata": {},
   "source": [
    "## Intendation and Character Set\n",
    "\n",
    "* Uses intendation to express block structure of a program\n",
    "* No use of braces {, } or begin/end\n",
    "* Use spaces or tabs, one of them consistently in the program file\n",
    "* recommendation is 4 spaces\n",
    "* UTF-8 Character set\n",
    "* Case Sensitive"
   ]
  },
  {
   "cell_type": "markdown",
   "metadata": {},
   "source": [
    "## Identifiers\n",
    "\n",
    "* a name used to specify a variable, function, class, module, or other object. \n",
    "\n",
    "* An identifier starts with a letter or an underscore ( _ )\n",
    "\n",
    "* followed by zero or more letters, underscores, and digits "
   ]
  },
  {
   "cell_type": "markdown",
   "metadata": {},
   "source": [
    "## Keywords\n",
    "\n",
    "* identifiers that Python reserves for special syntactic uses\n",
    "* 31 keywords\n",
    "* and continue except global lambda raise as def if exec not yield return assert del finally import or try break elif for in pass while class else from is print with"
   ]
  },
  {
   "cell_type": "markdown",
   "metadata": {},
   "source": [
    "## Data Types\n",
    "\n",
    "* Numbers - Integers, Floats and Complex Numbers\n",
    "* Sequences - Strings, Arrays, Tuples\n",
    "* "
   ]
  },
  {
   "cell_type": "code",
   "execution_count": 6,
   "metadata": {},
   "outputs": [
    {
     "data": {
      "text/plain": [
       "123456789123456789123456789"
      ]
     },
     "execution_count": 6,
     "metadata": {},
     "output_type": "execute_result"
    }
   ],
   "source": [
    "# Integers\n",
    "1 \n",
    "123456789123456789123456789"
   ]
  },
  {
   "cell_type": "code",
   "execution_count": 8,
   "metadata": {},
   "outputs": [
    {
     "data": {
      "text/plain": [
       "11230000000.0"
      ]
     },
     "execution_count": 8,
     "metadata": {},
     "output_type": "execute_result"
    }
   ],
   "source": [
    "# Floats\n",
    "# A Python floating-point value corresponds to a C double and shares its limits of\n",
    "# range and precision, typically 53 bits of precision on modern platforms.\n",
    "\n",
    "1.0\n",
    "1.123e10"
   ]
  },
  {
   "cell_type": "code",
   "execution_count": 10,
   "metadata": {},
   "outputs": [
    {
     "data": {
      "text/plain": [
       "(1.0, 2.0)"
      ]
     },
     "execution_count": 10,
     "metadata": {},
     "output_type": "execute_result"
    }
   ],
   "source": [
    "# Complex numbers\n",
    "a = 1 + 2.j\n",
    "\n",
    "(a.real, a.imag)"
   ]
  },
  {
   "cell_type": "code",
   "execution_count": 13,
   "metadata": {},
   "outputs": [
    {
     "data": {
      "text/plain": [
       "'Hello World'"
      ]
     },
     "execution_count": 13,
     "metadata": {},
     "output_type": "execute_result"
    }
   ],
   "source": [
    "## Strings\n",
    "## A sequence of 0 or more characters within matching quotes\n",
    "\n",
    "'Hello World'\n",
    "\n",
    "\"Hello World\""
   ]
  },
  {
   "cell_type": "code",
   "execution_count": 16,
   "metadata": {},
   "outputs": [
    {
     "data": {
      "text/plain": [
       "()"
      ]
     },
     "execution_count": 16,
     "metadata": {},
     "output_type": "execute_result"
    }
   ],
   "source": [
    "## Tuples\n",
    "\n",
    "## A tuple is an immutable ordered sequence of items. \n",
    "\n",
    "## The items of a tuple are arbitrary objects and may be of different types.\n",
    "\n",
    "(1, 2, 3)\n",
    "(\"1\", 2, 3.0)\n",
    "(\"one\",)  # , is required\n",
    "() # Empty Tuple"
   ]
  },
  {
   "cell_type": "code",
   "execution_count": 18,
   "metadata": {},
   "outputs": [
    {
     "data": {
      "text/plain": [
       "[]"
      ]
     },
     "execution_count": 18,
     "metadata": {},
     "output_type": "execute_result"
    }
   ],
   "source": [
    "## Lists\n",
    "\n",
    "## A list is a mutable ordered sequence of items. \n",
    "## The items of a list are arbitrary objects and may be of different types.\n",
    "\n",
    "[1, 2, 3]\n",
    "[\"1\", 2, 3.0]\n",
    "[\"one\"]  # , is NOT required unlike tuple\n",
    "[] # Empty List"
   ]
  },
  {
   "cell_type": "code",
   "execution_count": 21,
   "metadata": {},
   "outputs": [
    {
     "data": {
      "text/plain": [
       "[1, 2, 3]"
      ]
     },
     "execution_count": 21,
     "metadata": {},
     "output_type": "execute_result"
    }
   ],
   "source": [
    "# can use list() to create list\n",
    "\n",
    "list((1, 2, 3))\n",
    "list([1, 2, 3])"
   ]
  },
  {
   "cell_type": "code",
   "execution_count": 19,
   "metadata": {},
   "outputs": [
    {
     "data": {
      "text/plain": [
       "['H', 'e', 'l', 'l', 'o']"
      ]
     },
     "execution_count": 19,
     "metadata": {},
     "output_type": "execute_result"
    }
   ],
   "source": [
    "# String is a list\n",
    "\n",
    "list(\"Hello\")"
   ]
  },
  {
   "cell_type": "code",
   "execution_count": 24,
   "metadata": {},
   "outputs": [
    {
     "data": {
      "text/plain": [
       "set()"
      ]
     },
     "execution_count": 24,
     "metadata": {},
     "output_type": "execute_result"
    }
   ],
   "source": [
    "## Sets\n",
    "\n",
    "## set and frozenset , to represent arbitrarily ordered collections of unique items. \n",
    "\n",
    "## Items in a set may be of different types\n",
    "\n",
    "## Items are not ordered (has changed in 3.7?)\n",
    "\n",
    "{42, 3.14, 'hello'}\n",
    "{1, 2, 2, 3, 3, 3}\n",
    "set()"
   ]
  },
  {
   "cell_type": "code",
   "execution_count": 26,
   "metadata": {},
   "outputs": [
    {
     "data": {
      "text/plain": [
       "{'x': 42, 'y': 3.14, 'z': 7}"
      ]
     },
     "execution_count": 26,
     "metadata": {},
     "output_type": "execute_result"
    }
   ],
   "source": [
    "## A mapping is an arbitrary collection of objects indexed by nearly arbitrary values called keys.\n",
    "\n",
    "{'x':42, 'y':3.14, 'z':7}\n",
    "\n",
    "dict(x=42, y=3.14, z=7)"
   ]
  },
  {
   "cell_type": "code",
   "execution_count": 27,
   "metadata": {},
   "outputs": [
    {
     "data": {
      "text/plain": [
       "False"
      ]
     },
     "execution_count": 27,
     "metadata": {},
     "output_type": "execute_result"
    }
   ],
   "source": [
    "## Boolean\n",
    "\n",
    "True\n",
    "False\n",
    "\n",
    "# Any nonzeronumber or nonempty container (e.g., string, tuple, list, set, or dictionary) is true. \n",
    "\n",
    "# 0(of any numeric type), None , and empty containers are false."
   ]
  },
  {
   "cell_type": "code",
   "execution_count": 29,
   "metadata": {},
   "outputs": [
    {
     "data": {
      "text/plain": [
       "True"
      ]
     },
     "execution_count": 29,
     "metadata": {},
     "output_type": "execute_result"
    }
   ],
   "source": [
    "## Bool is a subtype of Int\n",
    "\n",
    "True == 1\n",
    "False == 0"
   ]
  },
  {
   "cell_type": "code",
   "execution_count": 33,
   "metadata": {},
   "outputs": [
    {
     "name": "stdout",
     "output_type": "stream",
     "text": [
      "a = 1\n",
      "a is now reassigned to : a string\n"
     ]
    }
   ],
   "source": [
    "## Variables\n",
    "\n",
    "# No declarations\n",
    "\n",
    "a = 1\n",
    "\n",
    "print(f\"a = {a}\")\n",
    "\n",
    "a = \"a string\"\n",
    "\n",
    "print(f\"a is now reassigned to : {a}\")"
   ]
  },
  {
   "cell_type": "code",
   "execution_count": 35,
   "metadata": {},
   "outputs": [
    {
     "data": {
      "text/plain": [
       "'2'"
      ]
     },
     "execution_count": 35,
     "metadata": {},
     "output_type": "execute_result"
    }
   ],
   "source": [
    "# Assignments\n",
    "\n",
    "a, b, c = 1, \"2\", 3.0\n",
    "\n",
    "b"
   ]
  },
  {
   "cell_type": "code",
   "execution_count": 38,
   "metadata": {},
   "outputs": [
    {
     "data": {
      "text/plain": [
       "True"
      ]
     },
     "execution_count": 38,
     "metadata": {},
     "output_type": "execute_result"
    }
   ],
   "source": [
    "# Logical operators\n",
    "\n",
    "not False\n",
    "\n",
    "True and False\n",
    "\n",
    "True or False"
   ]
  },
  {
   "cell_type": "code",
   "execution_count": 42,
   "metadata": {},
   "outputs": [
    {
     "data": {
      "text/plain": [
       "True"
      ]
     },
     "execution_count": 42,
     "metadata": {},
     "output_type": "execute_result"
    }
   ],
   "source": [
    "# Comparison chaining\n",
    "\n",
    "# a < b and b <= c and c < d\n",
    "# same as\n",
    "# a < b <= c < d\n",
    "\n",
    "a = 1\n",
    "b = 2\n",
    "c = 3\n",
    "d = 4\n",
    "\n",
    "a < b and b < c and c < d\n",
    "a < b < c < d"
   ]
  },
  {
   "cell_type": "code",
   "execution_count": 48,
   "metadata": {},
   "outputs": [
    {
     "data": {
      "text/plain": [
       "2"
      ]
     },
     "execution_count": 48,
     "metadata": {},
     "output_type": "execute_result"
    }
   ],
   "source": [
    "# Maths Operators\n",
    "\n",
    "1 + 2\n",
    "\n",
    "2 - 1\n",
    "\n",
    "3 * 2\n",
    "\n",
    "3 / 2  # returns float\n",
    "\n",
    "5 // 2"
   ]
  },
  {
   "cell_type": "code",
   "execution_count": 49,
   "metadata": {},
   "outputs": [
    {
     "data": {
      "text/plain": [
       "9"
      ]
     },
     "execution_count": 49,
     "metadata": {},
     "output_type": "execute_result"
    }
   ],
   "source": [
    "## Exponentiation\n",
    "\n",
    "3 ** 2"
   ]
  },
  {
   "cell_type": "code",
   "execution_count": 68,
   "metadata": {},
   "outputs": [
    {
     "data": {
      "text/plain": [
       "[1, 3, 5]"
      ]
     },
     "execution_count": 68,
     "metadata": {},
     "output_type": "execute_result"
    }
   ],
   "source": [
    "## Sequences\n",
    "\n",
    "## Sequences are ordered containers with items that are accessible by indexing and slicing.\n",
    "\n",
    "# len\n",
    "len([1, 2])\n",
    "\n",
    "# min\n",
    "min((1, 2, 3))\n",
    "\n",
    "# max\n",
    "max(\"hello\")\n",
    "\n",
    "# sum\n",
    "sum([1, 2, 3])\n",
    "\n",
    "# concatenation or repeatition\n",
    "\n",
    "[1, 2, 3] * 2\n",
    "\n",
    "# membership testing\n",
    "\n",
    "2 in [1, 2, 3]\n",
    "\n",
    "\"hell\" in \"hello\"\n",
    "\n",
    "# Indexing a sequence\n",
    "\n",
    "x = [1, 2, 3, 4, 5]\n",
    "\n",
    "x[0]\n",
    "x[2]\n",
    "x[-1]\n",
    "x[-3]\n",
    "\n",
    "# Slicing a sequence\n",
    "\n",
    "x[0:2]\n",
    "x[1:]\n",
    "x[0::2]"
   ]
  },
  {
   "cell_type": "code",
   "execution_count": 71,
   "metadata": {},
   "outputs": [
    {
     "data": {
      "text/plain": [
       "42"
      ]
     },
     "execution_count": 71,
     "metadata": {},
     "output_type": "execute_result"
    }
   ],
   "source": [
    "# Indexing a dictionary\n",
    "\n",
    "d = {'x':42, 'y':3.14, 'z':7}\n",
    "\n",
    "d['x']"
   ]
  },
  {
   "cell_type": "markdown",
   "metadata": {},
   "source": [
    "## Control Flow\n",
    "\n",
    "## if, if else, if elif else"
   ]
  },
  {
   "cell_type": "code",
   "execution_count": 72,
   "metadata": {},
   "outputs": [
    {
     "name": "stdout",
     "output_type": "stream",
     "text": [
      "x less than 1\n"
     ]
    }
   ],
   "source": [
    "x = 1\n",
    "\n",
    "if x <= 1:\n",
    "    print(\"x less than 1\")"
   ]
  },
  {
   "cell_type": "code",
   "execution_count": 73,
   "metadata": {},
   "outputs": [
    {
     "name": "stdout",
     "output_type": "stream",
     "text": [
      "x greater than 1\n"
     ]
    }
   ],
   "source": [
    "x = 2\n",
    "\n",
    "if x <= 1:\n",
    "    print(\"x less than 1\")\n",
    "else:\n",
    "    print(\"x greater than 1\")"
   ]
  },
  {
   "cell_type": "code",
   "execution_count": 74,
   "metadata": {},
   "outputs": [
    {
     "name": "stdout",
     "output_type": "stream",
     "text": [
      "x is greater than 1 and less than or equal to 2\n"
     ]
    }
   ],
   "source": [
    "x = 2\n",
    "\n",
    "if x <= 1:\n",
    "    print(\"x less than 1\")\n",
    "elif x <= 2:\n",
    "    print(\"x is greater than 1 and less than or equal to 2\")\n",
    "else:\n",
    "    print(\"x greater than 1\")"
   ]
  },
  {
   "cell_type": "code",
   "execution_count": 76,
   "metadata": {},
   "outputs": [
    {
     "name": "stdout",
     "output_type": "stream",
     "text": [
      "count is 10\n"
     ]
    }
   ],
   "source": [
    "# While statement\n",
    "\n",
    "count = 0\n",
    "\n",
    "while count < 10:\n",
    "    count += 1\n",
    "\n",
    "print(f\"count is {count}\")"
   ]
  },
  {
   "cell_type": "code",
   "execution_count": 77,
   "metadata": {},
   "outputs": [
    {
     "name": "stdout",
     "output_type": "stream",
     "text": [
      "1\n",
      "2\n",
      "3\n"
     ]
    }
   ],
   "source": [
    "# For statement\n",
    "\n",
    "for i in [1, 2, 3] :\n",
    "    print(f\"{i}\")"
   ]
  },
  {
   "cell_type": "code",
   "execution_count": 82,
   "metadata": {},
   "outputs": [
    {
     "data": {
      "text/plain": [
       "[1, 4, 9, 16]"
      ]
     },
     "execution_count": 82,
     "metadata": {},
     "output_type": "execute_result"
    }
   ],
   "source": [
    "## List Comprehensions\n",
    "\n",
    "x = [1, 2, 3, 4]\n",
    "\n",
    "squares = []\n",
    "\n",
    "for i in x:\n",
    "    squares.append(i * i)\n",
    "    \n",
    "squares"
   ]
  },
  {
   "cell_type": "code",
   "execution_count": 81,
   "metadata": {},
   "outputs": [
    {
     "data": {
      "text/plain": [
       "[1, 4, 9, 16]"
      ]
     },
     "execution_count": 81,
     "metadata": {},
     "output_type": "execute_result"
    }
   ],
   "source": [
    "# [ expression for target in iterable lc-clauses ]\n",
    "\n",
    "[i * i for i in x]"
   ]
  },
  {
   "cell_type": "code",
   "execution_count": 83,
   "metadata": {},
   "outputs": [
    {
     "data": {
      "text/plain": [
       "[4, 16]"
      ]
     },
     "execution_count": 83,
     "metadata": {},
     "output_type": "execute_result"
    }
   ],
   "source": [
    "[i * i for i in x if i % 2 == 0]"
   ]
  },
  {
   "cell_type": "markdown",
   "metadata": {},
   "source": [
    "## Functions\n",
    "\n",
    "def function_name(parameters):\n",
    "\n",
    "    statement(s)"
   ]
  },
  {
   "cell_type": "code",
   "execution_count": 87,
   "metadata": {},
   "outputs": [
    {
     "data": {
      "text/plain": [
       "2"
      ]
     },
     "execution_count": 87,
     "metadata": {},
     "output_type": "execute_result"
    }
   ],
   "source": [
    "# Use return \n",
    "\n",
    "def sum(a, b=0) : \n",
    "    return a + b\n",
    "\n",
    "sum(2, 4)\n",
    "sum(2)"
   ]
  },
  {
   "cell_type": "code",
   "execution_count": 89,
   "metadata": {},
   "outputs": [
    {
     "data": {
      "text/plain": [
       "6"
      ]
     },
     "execution_count": 89,
     "metadata": {},
     "output_type": "execute_result"
    }
   ],
   "source": [
    "# Lambda functions\n",
    "\n",
    "fn = lambda x, y : x + y\n",
    "\n",
    "fn(2, 4)"
   ]
  },
  {
   "cell_type": "code",
   "execution_count": 93,
   "metadata": {},
   "outputs": [
    {
     "data": {
      "text/plain": [
       "'Jeffry'"
      ]
     },
     "execution_count": 93,
     "metadata": {},
     "output_type": "execute_result"
    }
   ],
   "source": [
    "# Class\n",
    "\n",
    "class Person():\n",
    "    def __init__(self, name, age):\n",
    "        self.name = name\n",
    "        self.age = age\n",
    "    def get_name(self):\n",
    "        return self.name\n",
    "    def get_age(self):\n",
    "        return self.age\n",
    "    def set_name(self, name):\n",
    "        self.name = name\n",
    "        \n",
    "\n",
    "jeff = Person(\"Jeff\", 30)\n",
    "\n",
    "jeff.get_name()\n",
    "jeff.set_name(\"Jeffry\")  \n",
    "jeff.get_name()\n",
    "\n",
    "jeff.name"
   ]
  },
  {
   "cell_type": "code",
   "execution_count": 97,
   "metadata": {},
   "outputs": [
    {
     "name": "stdout",
     "output_type": "stream",
     "text": [
      "everything fine\n"
     ]
    }
   ],
   "source": [
    "# Exceptions\n",
    "\n",
    "\n",
    "try:\n",
    "    1 / 1\n",
    "except :\n",
    "    print(\"Divide by 0\")\n",
    "finally :\n",
    "    print(\"everything fine\")"
   ]
  }
 ],
 "metadata": {
  "kernelspec": {
   "display_name": "Python 3",
   "language": "python",
   "name": "python3"
  },
  "language_info": {
   "codemirror_mode": {
    "name": "ipython",
    "version": 3
   },
   "file_extension": ".py",
   "mimetype": "text/x-python",
   "name": "python",
   "nbconvert_exporter": "python",
   "pygments_lexer": "ipython3",
   "version": "3.7.9"
  }
 },
 "nbformat": 4,
 "nbformat_minor": 4
}
